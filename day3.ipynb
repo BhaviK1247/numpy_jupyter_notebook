{
 "cells": [
  {
   "cell_type": "code",
   "execution_count": 1,
   "id": "f2c37d79-fb1f-4c6e-87d9-e2caea383b9c",
   "metadata": {},
   "outputs": [],
   "source": [
    "import numpy as np"
   ]
  },
  {
   "cell_type": "code",
   "execution_count": 3,
   "id": "2a2a42a9-1f6f-49a0-a831-5614692d1eeb",
   "metadata": {},
   "outputs": [],
   "source": [
    "a=np.array([1,2,3,4,5],dtype='int32')"
   ]
  },
  {
   "cell_type": "code",
   "execution_count": 4,
   "id": "93611486-36ec-4ec6-a905-b569e754bb7a",
   "metadata": {},
   "outputs": [
    {
     "name": "stdout",
     "output_type": "stream",
     "text": [
      "[1 2 3 4 5]\n"
     ]
    }
   ],
   "source": [
    "print(a)"
   ]
  },
  {
   "cell_type": "code",
   "execution_count": 5,
   "id": "fd54c9eb-37e7-4c03-8aff-e0e2b03a0e83",
   "metadata": {},
   "outputs": [
    {
     "data": {
      "text/plain": [
       "array([1, 2, 3, 4, 5], dtype=int32)"
      ]
     },
     "execution_count": 5,
     "metadata": {},
     "output_type": "execute_result"
    }
   ],
   "source": [
    "a"
   ]
  },
  {
   "cell_type": "code",
   "execution_count": 6,
   "id": "1bf4f211-19a1-4de9-a582-486cbfd5e516",
   "metadata": {},
   "outputs": [
    {
     "data": {
      "text/plain": [
       "array([3, 4, 5, 6, 7], dtype=int32)"
      ]
     },
     "execution_count": 6,
     "metadata": {},
     "output_type": "execute_result"
    }
   ],
   "source": [
    "a+2"
   ]
  },
  {
   "cell_type": "code",
   "execution_count": 7,
   "id": "b1aaefe7-547e-4649-9722-3c8a59781cbf",
   "metadata": {},
   "outputs": [
    {
     "data": {
      "text/plain": [
       "array([ 1,  4,  9, 16, 25], dtype=int32)"
      ]
     },
     "execution_count": 7,
     "metadata": {},
     "output_type": "execute_result"
    }
   ],
   "source": [
    "a**2"
   ]
  },
  {
   "cell_type": "code",
   "execution_count": 8,
   "id": "4b47949b-a349-4c06-95c9-a99e422cdcad",
   "metadata": {},
   "outputs": [
    {
     "data": {
      "text/plain": [
       "array([ 0.84147098,  0.90929743,  0.14112001, -0.7568025 , -0.95892427])"
      ]
     },
     "execution_count": 8,
     "metadata": {},
     "output_type": "execute_result"
    }
   ],
   "source": [
    "np.sin(a)"
   ]
  },
  {
   "cell_type": "code",
   "execution_count": 9,
   "id": "5f98ae5b-00b8-4caf-a56a-eb57ef971aec",
   "metadata": {},
   "outputs": [
    {
     "data": {
      "text/plain": [
       "array([ 0.54030231, -0.41614684, -0.9899925 , -0.65364362,  0.28366219])"
      ]
     },
     "execution_count": 9,
     "metadata": {},
     "output_type": "execute_result"
    }
   ],
   "source": [
    "np.cos(a)"
   ]
  },
  {
   "cell_type": "code",
   "execution_count": 10,
   "id": "15af0001-e1ec-405e-9f3c-a6b1cbe240cb",
   "metadata": {},
   "outputs": [
    {
     "data": {
      "text/plain": [
       "array([ 1.55740772, -2.18503986, -0.14254654,  1.15782128, -3.38051501])"
      ]
     },
     "execution_count": 10,
     "metadata": {},
     "output_type": "execute_result"
    }
   ],
   "source": [
    "np.tan(a)"
   ]
  },
  {
   "cell_type": "code",
   "execution_count": 11,
   "id": "a897ed52-558f-423b-a8f1-f6a7d2b1764e",
   "metadata": {},
   "outputs": [],
   "source": [
    "###linear Algebra"
   ]
  },
  {
   "cell_type": "code",
   "execution_count": 13,
   "id": "c15ffabb-882d-4010-befd-c7dc2af26504",
   "metadata": {},
   "outputs": [],
   "source": [
    "arr1=np.ones((2,3),dtype='int32')"
   ]
  },
  {
   "cell_type": "code",
   "execution_count": 15,
   "id": "2194ddf9-e337-4f63-b94e-18cfded526bb",
   "metadata": {},
   "outputs": [],
   "source": [
    "arr2=np.full((3,2),99,dtype='int32')"
   ]
  },
  {
   "cell_type": "code",
   "execution_count": 16,
   "id": "6991c864-9fae-4bd1-9160-245e0f91f22f",
   "metadata": {},
   "outputs": [
    {
     "data": {
      "text/plain": [
       "array([[297, 297],\n",
       "       [297, 297]], dtype=int32)"
      ]
     },
     "execution_count": 16,
     "metadata": {},
     "output_type": "execute_result"
    }
   ],
   "source": [
    "arr1 @ arr2"
   ]
  },
  {
   "cell_type": "code",
   "execution_count": 20,
   "id": "384b6e46-6b3e-4db9-a222-7d17dec001d5",
   "metadata": {},
   "outputs": [
    {
     "data": {
      "text/plain": [
       "np.float64(1.0)"
      ]
     },
     "execution_count": 20,
     "metadata": {},
     "output_type": "execute_result"
    }
   ],
   "source": [
    "c=np.identity(3)\n",
    "np.linalg.det(c)"
   ]
  },
  {
   "cell_type": "code",
   "execution_count": 21,
   "id": "2b98e61c-365a-42e6-8741-40dcac3afb90",
   "metadata": {},
   "outputs": [
    {
     "data": {
      "text/plain": [
       "array([[1., 0., 0.],\n",
       "       [0., 1., 0.],\n",
       "       [0., 0., 1.]])"
      ]
     },
     "execution_count": 21,
     "metadata": {},
     "output_type": "execute_result"
    }
   ],
   "source": [
    "c"
   ]
  },
  {
   "cell_type": "code",
   "execution_count": 22,
   "id": "7ce507d7-2210-46c0-a80e-1bd02b0c29af",
   "metadata": {},
   "outputs": [],
   "source": [
    "before=np.array([[1,2,3],[5,6,7]]);"
   ]
  },
  {
   "cell_type": "code",
   "execution_count": 23,
   "id": "706d3601-9fe3-44f8-bb29-465fea26dccd",
   "metadata": {},
   "outputs": [
    {
     "data": {
      "text/plain": [
       "array([[1, 2, 3],\n",
       "       [5, 6, 7]])"
      ]
     },
     "execution_count": 23,
     "metadata": {},
     "output_type": "execute_result"
    }
   ],
   "source": [
    "before"
   ]
  },
  {
   "cell_type": "code",
   "execution_count": 26,
   "id": "01b9db06-d464-490f-bf15-97053b1ec122",
   "metadata": {},
   "outputs": [
    {
     "data": {
      "text/plain": [
       "(2, 3)"
      ]
     },
     "execution_count": 26,
     "metadata": {},
     "output_type": "execute_result"
    }
   ],
   "source": [
    "np.shape(before)"
   ]
  },
  {
   "cell_type": "code",
   "execution_count": 35,
   "id": "c2d57203-de1a-43be-80eb-0a17de9995d5",
   "metadata": {},
   "outputs": [],
   "source": [
    "after=before.reshape((3,2,1))"
   ]
  },
  {
   "cell_type": "code",
   "execution_count": 36,
   "id": "a14e07c0-0f3d-4075-b92e-ed7df3a301d4",
   "metadata": {},
   "outputs": [
    {
     "data": {
      "text/plain": [
       "array([[[1],\n",
       "        [2]],\n",
       "\n",
       "       [[3],\n",
       "        [5]],\n",
       "\n",
       "       [[6],\n",
       "        [7]]])"
      ]
     },
     "execution_count": 36,
     "metadata": {},
     "output_type": "execute_result"
    }
   ],
   "source": [
    "after"
   ]
  },
  {
   "cell_type": "code",
   "execution_count": 37,
   "id": "d4208e40-2cfe-4143-a8ef-639d4d83071f",
   "metadata": {},
   "outputs": [],
   "source": [
    "v1=np.ones((3,3))"
   ]
  },
  {
   "cell_type": "code",
   "execution_count": 38,
   "id": "c83e8047-f008-4972-bb2e-0d900206c036",
   "metadata": {},
   "outputs": [],
   "source": [
    "v2=np.zeros((3,3))"
   ]
  },
  {
   "cell_type": "code",
   "execution_count": 40,
   "id": "f9479404-1895-479b-b4f5-d27334ed9212",
   "metadata": {},
   "outputs": [
    {
     "data": {
      "text/plain": [
       "array([[0., 0., 0.],\n",
       "       [0., 0., 0.],\n",
       "       [0., 0., 0.],\n",
       "       [1., 1., 1.],\n",
       "       [1., 1., 1.],\n",
       "       [1., 1., 1.]])"
      ]
     },
     "execution_count": 40,
     "metadata": {},
     "output_type": "execute_result"
    }
   ],
   "source": [
    "np.vstack([v2,v1])"
   ]
  },
  {
   "cell_type": "code",
   "execution_count": 41,
   "id": "02c139df-d546-421d-9ba6-dc0f6ec564cd",
   "metadata": {},
   "outputs": [
    {
     "data": {
      "text/plain": [
       "array([[1., 1., 1., 1., 1., 1.],\n",
       "       [1., 1., 1., 1., 1., 1.],\n",
       "       [1., 1., 1., 1., 1., 1.]])"
      ]
     },
     "execution_count": 41,
     "metadata": {},
     "output_type": "execute_result"
    }
   ],
   "source": [
    "np.hstack([v1,v1])"
   ]
  },
  {
   "cell_type": "code",
   "execution_count": null,
   "id": "b2cdaf46-b0cb-45c3-b6b1-0f25b4f54f82",
   "metadata": {},
   "outputs": [],
   "source": []
  }
 ],
 "metadata": {
  "kernelspec": {
   "display_name": "Python 3 (ipykernel)",
   "language": "python",
   "name": "python3"
  },
  "language_info": {
   "codemirror_mode": {
    "name": "ipython",
    "version": 3
   },
   "file_extension": ".py",
   "mimetype": "text/x-python",
   "name": "python",
   "nbconvert_exporter": "python",
   "pygments_lexer": "ipython3",
   "version": "3.12.4"
  }
 },
 "nbformat": 4,
 "nbformat_minor": 5
}
