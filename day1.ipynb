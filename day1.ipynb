{
 "cells": [
  {
   "cell_type": "code",
   "execution_count": 1,
   "id": "37e06f8d-041c-4662-bed2-63f3c537f145",
   "metadata": {},
   "outputs": [],
   "source": [
    "import numpy as np"
   ]
  },
  {
   "cell_type": "code",
   "execution_count": 2,
   "id": "832a4e46-1773-4deb-a892-7c1eb051f2fd",
   "metadata": {},
   "outputs": [],
   "source": [
    "arr1=np.array([[1,2,3],[4,5,6],[7,8,9]])"
   ]
  },
  {
   "cell_type": "code",
   "execution_count": 3,
   "id": "30f4a5df-d8f7-44fb-94bf-a1c52154887e",
   "metadata": {},
   "outputs": [],
   "source": [
    "arr2=np.array([[1,2,3],[4,5,6],[7,8,9]])"
   ]
  },
  {
   "cell_type": "code",
   "execution_count": 4,
   "id": "5499f9b7-0e01-401d-bbde-cd4f3d42f39d",
   "metadata": {},
   "outputs": [
    {
     "data": {
      "text/plain": [
       "array([[ 2,  4,  6],\n",
       "       [ 8, 10, 12],\n",
       "       [14, 16, 18]])"
      ]
     },
     "execution_count": 4,
     "metadata": {},
     "output_type": "execute_result"
    }
   ],
   "source": [
    "arr1+arr2"
   ]
  },
  {
   "cell_type": "code",
   "execution_count": 5,
   "id": "6e875732-12b0-48eb-8c99-51979c6e4194",
   "metadata": {},
   "outputs": [
    {
     "data": {
      "text/plain": [
       "array([[ 4,  5,  6],\n",
       "       [ 7,  8,  9],\n",
       "       [10, 11, 12]])"
      ]
     },
     "execution_count": 5,
     "metadata": {},
     "output_type": "execute_result"
    }
   ],
   "source": [
    "arr1+3"
   ]
  },
  {
   "cell_type": "code",
   "execution_count": 6,
   "id": "a8c9281c-aa18-4633-b129-2041bcefddb2",
   "metadata": {},
   "outputs": [
    {
     "data": {
      "text/plain": [
       "array([[ 5, 10, 15],\n",
       "       [20, 25, 30],\n",
       "       [35, 40, 45]])"
      ]
     },
     "execution_count": 6,
     "metadata": {},
     "output_type": "execute_result"
    }
   ],
   "source": [
    "arr2*5"
   ]
  },
  {
   "cell_type": "code",
   "execution_count": 8,
   "id": "3a52548b-2d10-4637-aeaa-7d35a599fc5a",
   "metadata": {},
   "outputs": [
    {
     "data": {
      "text/plain": [
       "np.int64(90)"
      ]
     },
     "execution_count": 8,
     "metadata": {},
     "output_type": "execute_result"
    }
   ],
   "source": [
    "(arr1+arr2).sum()"
   ]
  },
  {
   "cell_type": "code",
   "execution_count": 10,
   "id": "6bc120b7-7360-4afa-9bdb-63baa22446fb",
   "metadata": {},
   "outputs": [],
   "source": [
    "multi_arr=np.array([[[1,2,34],\n",
    "                   [3,6,74]],\n",
    "                  [[34,56,234],\n",
    "                  [45,67,45]],\n",
    "                  [[46,68,23],\n",
    "                  [23,13,89]]]);"
   ]
  },
  {
   "cell_type": "code",
   "execution_count": 14,
   "id": "0c62cd6e-3c37-4e62-a832-7919db6ca132",
   "metadata": {},
   "outputs": [
    {
     "data": {
      "text/plain": [
       "array([[[  1,   2,  34],\n",
       "        [  3,   6,  74]],\n",
       "\n",
       "       [[ 34,  56, 234],\n",
       "        [ 45,  67,  45]],\n",
       "\n",
       "       [[ 46,  68,  23],\n",
       "        [ 23,  13,  89]]])"
      ]
     },
     "execution_count": 14,
     "metadata": {},
     "output_type": "execute_result"
    }
   ],
   "source": [
    "multi_arr"
   ]
  },
  {
   "cell_type": "code",
   "execution_count": 15,
   "id": "8ddc14a2-0549-4954-b6c4-5e3361cab7cd",
   "metadata": {},
   "outputs": [
    {
     "data": {
      "text/plain": [
       "array([[[  1,   2,  34],\n",
       "        [  3,   6,  74]],\n",
       "\n",
       "       [[ 34,  56, 234],\n",
       "        [ 45,  67,  45]],\n",
       "\n",
       "       [[ 46,  68,  23],\n",
       "        [ 23,  13,  89]]])"
      ]
     },
     "execution_count": 15,
     "metadata": {},
     "output_type": "execute_result"
    }
   ],
   "source": [
    "multi_arr"
   ]
  },
  {
   "cell_type": "code",
   "execution_count": 16,
   "id": "2c0bfdfa-7bd4-4954-aca2-a100e5498943",
   "metadata": {},
   "outputs": [
    {
     "data": {
      "text/plain": [
       "(3, 2, 3)"
      ]
     },
     "execution_count": 16,
     "metadata": {},
     "output_type": "execute_result"
    }
   ],
   "source": [
    "multi_arr.shape"
   ]
  },
  {
   "cell_type": "code",
   "execution_count": 18,
   "id": "56b12f94-c5bc-4c29-b5bf-114d5fac594e",
   "metadata": {},
   "outputs": [
    {
     "data": {
      "text/plain": [
       "np.int64(234)"
      ]
     },
     "execution_count": 18,
     "metadata": {},
     "output_type": "execute_result"
    }
   ],
   "source": [
    "multi_arr[1,0,2]"
   ]
  },
  {
   "cell_type": "code",
   "execution_count": 25,
   "id": "d15f74e9-0517-41ec-b1a0-609c45442b8a",
   "metadata": {},
   "outputs": [
    {
     "data": {
      "text/plain": [
       "array([[[ 1,  2]],\n",
       "\n",
       "       [[34, 56]],\n",
       "\n",
       "       [[46, 68]]])"
      ]
     },
     "execution_count": 25,
     "metadata": {},
     "output_type": "execute_result"
    }
   ],
   "source": [
    "multi_arr[0:,0:1,:2]"
   ]
  },
  {
   "cell_type": "code",
   "execution_count": null,
   "id": "045fe88d-4778-4cd4-9fff-8cbc4ae43aa7",
   "metadata": {},
   "outputs": [],
   "source": []
  },
  {
   "cell_type": "code",
   "execution_count": null,
   "id": "3d570e93-4055-46cf-a460-fbdd87962057",
   "metadata": {},
   "outputs": [],
   "source": []
  }
 ],
 "metadata": {
  "kernelspec": {
   "display_name": "Python 3 (ipykernel)",
   "language": "python",
   "name": "python3"
  },
  "language_info": {
   "codemirror_mode": {
    "name": "ipython",
    "version": 3
   },
   "file_extension": ".py",
   "mimetype": "text/x-python",
   "name": "python",
   "nbconvert_exporter": "python",
   "pygments_lexer": "ipython3",
   "version": "3.12.4"
  }
 },
 "nbformat": 4,
 "nbformat_minor": 5
}
