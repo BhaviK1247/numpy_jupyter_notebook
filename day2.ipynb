{
 "cells": [
  {
   "cell_type": "code",
   "execution_count": 1,
   "id": "5a49a73d-f0b4-40ae-a285-309a7506e96f",
   "metadata": {},
   "outputs": [],
   "source": [
    "import numpy as np"
   ]
  },
  {
   "cell_type": "code",
   "execution_count": 6,
   "id": "08779d80-e496-4b9b-8c35-d783aadc7bf2",
   "metadata": {},
   "outputs": [
    {
     "data": {
      "text/plain": [
       "array([[[0., 0., 0., 0.],\n",
       "        [0., 0., 0., 0.],\n",
       "        [0., 0., 0., 0.]],\n",
       "\n",
       "       [[0., 0., 0., 0.],\n",
       "        [0., 0., 0., 0.],\n",
       "        [0., 0., 0., 0.]]])"
      ]
     },
     "execution_count": 6,
     "metadata": {},
     "output_type": "execute_result"
    }
   ],
   "source": [
    "np.zeros((2,3,4))"
   ]
  },
  {
   "cell_type": "code",
   "execution_count": 7,
   "id": "30ac6b48-65b0-4780-82d8-00a3308820d7",
   "metadata": {},
   "outputs": [
    {
     "data": {
      "text/plain": [
       "array([[[1, 1],\n",
       "        [1, 1]],\n",
       "\n",
       "       [[1, 1],\n",
       "        [1, 1]]], dtype=int32)"
      ]
     },
     "execution_count": 7,
     "metadata": {},
     "output_type": "execute_result"
    }
   ],
   "source": [
    "np.ones((2,2,2), dtype='int32')"
   ]
  },
  {
   "cell_type": "code",
   "execution_count": 9,
   "id": "88f29d13-c56f-4ae1-904b-d73d14cecfd5",
   "metadata": {},
   "outputs": [
    {
     "data": {
      "text/plain": [
       "array([[99, 99],\n",
       "       [99, 99]], dtype=int16)"
      ]
     },
     "execution_count": 9,
     "metadata": {},
     "output_type": "execute_result"
    }
   ],
   "source": [
    "np.full((2,2),99,dtype='int16')"
   ]
  },
  {
   "cell_type": "code",
   "execution_count": 11,
   "id": "806b41c0-a80d-408a-8f32-cbfa6ec2b556",
   "metadata": {},
   "outputs": [
    {
     "data": {
      "text/plain": [
       "array([[[0.63750242, 0.77544417, 0.61596502, 0.76907859],\n",
       "        [0.66879605, 0.1864654 , 0.44749273, 0.61902785],\n",
       "        [0.96397929, 0.89502932, 0.55672066, 0.17339268]],\n",
       "\n",
       "       [[0.10114068, 0.02213959, 0.61452374, 0.8190968 ],\n",
       "        [0.21475775, 0.90375203, 0.00835418, 0.49591645],\n",
       "        [0.42902676, 0.22111707, 0.97889352, 0.51346281]]])"
      ]
     },
     "execution_count": 11,
     "metadata": {},
     "output_type": "execute_result"
    }
   ],
   "source": [
    "np.random.rand(2,3,4)"
   ]
  },
  {
   "cell_type": "code",
   "execution_count": 14,
   "id": "8286de50-d442-416a-b51b-7ba1662b71b8",
   "metadata": {},
   "outputs": [
    {
     "data": {
      "text/plain": [
       "array([[6, 6, 4],\n",
       "       [5, 6, 5],\n",
       "       [5, 6, 6]], dtype=int16)"
      ]
     },
     "execution_count": 14,
     "metadata": {},
     "output_type": "execute_result"
    }
   ],
   "source": [
    "np.random.randint(4,7,size=(3,3),dtype='int16')"
   ]
  },
  {
   "cell_type": "code",
   "execution_count": 16,
   "id": "4ce33214-2a9d-4151-a0bc-ce5c16d66308",
   "metadata": {},
   "outputs": [
    {
     "data": {
      "text/plain": [
       "array([[1, 0, 0],\n",
       "       [0, 1, 0],\n",
       "       [0, 0, 1]], dtype=int32)"
      ]
     },
     "execution_count": 16,
     "metadata": {},
     "output_type": "execute_result"
    }
   ],
   "source": [
    "np.identity(3,dtype='int32')"
   ]
  },
  {
   "cell_type": "code",
   "execution_count": 46,
   "id": "309cde7f-78a4-4ec0-9420-f09ace5dc204",
   "metadata": {},
   "outputs": [],
   "source": [
    "arr=np.ones((5,5),dtype=\"int32\")"
   ]
  },
  {
   "cell_type": "code",
   "execution_count": 47,
   "id": "a2233760-208b-4fbd-a648-5890dcb94afe",
   "metadata": {},
   "outputs": [
    {
     "data": {
      "text/plain": [
       "array([[1, 1, 1, 1, 1],\n",
       "       [1, 1, 1, 1, 1],\n",
       "       [1, 1, 1, 1, 1],\n",
       "       [1, 1, 1, 1, 1],\n",
       "       [1, 1, 1, 1, 1]], dtype=int32)"
      ]
     },
     "execution_count": 47,
     "metadata": {},
     "output_type": "execute_result"
    }
   ],
   "source": [
    "arr"
   ]
  },
  {
   "cell_type": "code",
   "execution_count": 50,
   "id": "e639b357-cfe8-4e7d-868b-9d176dff241f",
   "metadata": {},
   "outputs": [],
   "source": [
    "for i in range(1,4):\n",
    "    for j in range(1,4):\n",
    "        if arr[i,j]!=0:\n",
    "            arr[i,j]=0"
   ]
  },
  {
   "cell_type": "code",
   "execution_count": 51,
   "id": "c432ddba-e56a-47a5-8794-6606a153aafa",
   "metadata": {},
   "outputs": [
    {
     "data": {
      "text/plain": [
       "array([[1, 1, 1, 1, 1],\n",
       "       [1, 0, 0, 0, 0],\n",
       "       [1, 0, 0, 0, 0],\n",
       "       [1, 0, 0, 0, 0],\n",
       "       [1, 0, 0, 0, 0]], dtype=int32)"
      ]
     },
     "execution_count": 51,
     "metadata": {},
     "output_type": "execute_result"
    }
   ],
   "source": [
    "arr"
   ]
  },
  {
   "cell_type": "code",
   "execution_count": null,
   "id": "1188b3a2-0011-44c6-a0c8-09eea1b38573",
   "metadata": {},
   "outputs": [],
   "source": []
  }
 ],
 "metadata": {
  "kernelspec": {
   "display_name": "Python 3 (ipykernel)",
   "language": "python",
   "name": "python3"
  },
  "language_info": {
   "codemirror_mode": {
    "name": "ipython",
    "version": 3
   },
   "file_extension": ".py",
   "mimetype": "text/x-python",
   "name": "python",
   "nbconvert_exporter": "python",
   "pygments_lexer": "ipython3",
   "version": "3.12.4"
  }
 },
 "nbformat": 4,
 "nbformat_minor": 5
}
