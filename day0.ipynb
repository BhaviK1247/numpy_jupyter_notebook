{
 "cells": [
  {
   "cell_type": "code",
   "execution_count": 18,
   "id": "741f7371-dd80-4bc7-b64d-34f5b3a5dcf7",
   "metadata": {},
   "outputs": [],
   "source": [
    "import numpy as np\n",
    "import pandas as pd\n",
    "import urllib.request"
   ]
  },
  {
   "cell_type": "code",
   "execution_count": 4,
   "id": "1767a6cb-2ac8-4f32-adb9-31e09bf170b5",
   "metadata": {},
   "outputs": [],
   "source": [
    "kento=np.array([73,67,43])"
   ]
  },
  {
   "cell_type": "code",
   "execution_count": 5,
   "id": "c05c91dd-b852-4e38-a115-b93d0ab14ca2",
   "metadata": {},
   "outputs": [],
   "source": [
    "weight=np.array([0.2,0.3,0.5])"
   ]
  },
  {
   "cell_type": "code",
   "execution_count": 6,
   "id": "41fa6e8a-da95-44a2-84ef-02e298950e29",
   "metadata": {},
   "outputs": [
    {
     "data": {
      "text/plain": [
       "array([73, 67, 43])"
      ]
     },
     "execution_count": 6,
     "metadata": {},
     "output_type": "execute_result"
    }
   ],
   "source": [
    "kento"
   ]
  },
  {
   "cell_type": "code",
   "execution_count": 8,
   "id": "3f886a64-94b1-4e43-9028-5774f032d4de",
   "metadata": {},
   "outputs": [],
   "source": [
    "dot=np.dot(kento,weight)"
   ]
  },
  {
   "cell_type": "code",
   "execution_count": 9,
   "id": "42e0855f-43a4-4420-8e1a-69e6da7453b7",
   "metadata": {},
   "outputs": [
    {
     "data": {
      "text/plain": [
       "np.float64(56.2)"
      ]
     },
     "execution_count": 9,
     "metadata": {},
     "output_type": "execute_result"
    }
   ],
   "source": [
    "dot"
   ]
  },
  {
   "cell_type": "code",
   "execution_count": 10,
   "id": "5025cd91-ce0c-4145-b7f0-743a67c8be07",
   "metadata": {},
   "outputs": [],
   "source": [
    "#multidimentional arrays"
   ]
  },
  {
   "cell_type": "code",
   "execution_count": 12,
   "id": "674915c3-49c4-4d1f-b572-a45c056d71f3",
   "metadata": {},
   "outputs": [],
   "source": [
    "climate_data=np.array([[73,67,43],[91,88,64],[87,134,58],[102,43,37],[69,96,70]])"
   ]
  },
  {
   "cell_type": "code",
   "execution_count": 13,
   "id": "5ae68b44-7879-4a58-a701-5631ed10e724",
   "metadata": {},
   "outputs": [
    {
     "data": {
      "text/plain": [
       "array([[ 73,  67,  43],\n",
       "       [ 91,  88,  64],\n",
       "       [ 87, 134,  58],\n",
       "       [102,  43,  37],\n",
       "       [ 69,  96,  70]])"
      ]
     },
     "execution_count": 13,
     "metadata": {},
     "output_type": "execute_result"
    }
   ],
   "source": [
    "climate_data"
   ]
  },
  {
   "cell_type": "code",
   "execution_count": 14,
   "id": "b79af84a-5b61-4f81-92da-780865292873",
   "metadata": {},
   "outputs": [
    {
     "data": {
      "text/plain": [
       "(5, 3)"
      ]
     },
     "execution_count": 14,
     "metadata": {},
     "output_type": "execute_result"
    }
   ],
   "source": [
    "climate_data.shape"
   ]
  },
  {
   "cell_type": "code",
   "execution_count": 15,
   "id": "f6d64fdf-0295-4166-b3d7-468af0d5219a",
   "metadata": {},
   "outputs": [
    {
     "data": {
      "text/plain": [
       "array([0.2, 0.3, 0.5])"
      ]
     },
     "execution_count": 15,
     "metadata": {},
     "output_type": "execute_result"
    }
   ],
   "source": [
    "weight"
   ]
  },
  {
   "cell_type": "code",
   "execution_count": 16,
   "id": "2d9ead27-e3cb-4931-86ec-eff2815e4eca",
   "metadata": {},
   "outputs": [
    {
     "data": {
      "text/plain": [
       "dtype('int64')"
      ]
     },
     "execution_count": 16,
     "metadata": {},
     "output_type": "execute_result"
    }
   ],
   "source": [
    "climate_data.dtype"
   ]
  },
  {
   "cell_type": "code",
   "execution_count": 17,
   "id": "44161d62-5190-416e-a447-24e24e822194",
   "metadata": {},
   "outputs": [
    {
     "data": {
      "text/plain": [
       "array([56.2, 76.6, 86.6, 51.8, 77.6])"
      ]
     },
     "execution_count": 17,
     "metadata": {},
     "output_type": "execute_result"
    }
   ],
   "source": [
    "np.matmul(climate_data,weight)"
   ]
  },
  {
   "cell_type": "code",
   "execution_count": 19,
   "id": "352a34a7-d819-4e5c-aca6-d27f49244e4d",
   "metadata": {},
   "outputs": [
    {
     "data": {
      "text/plain": [
       "('climate.txt', <http.client.HTTPMessage at 0x239a5e342c0>)"
      ]
     },
     "execution_count": 19,
     "metadata": {},
     "output_type": "execute_result"
    }
   ],
   "source": [
    "urllib.request.urlretrieve('https://gist.github.com/BirajCoder/a4ffcb76fd6fb221d76ac2ee2b8584e9/raw/4054f90adfd361b7aa4255e99c2e874664094cea/climate.csv', \n",
    "    'climate.txt')"
   ]
  },
  {
   "cell_type": "code",
   "execution_count": 20,
   "id": "21b5d625-43a0-42a1-9493-132ace63562e",
   "metadata": {},
   "outputs": [],
   "source": [
    "climate_db=np.genfromtxt('climate.txt',delimiter=',',skip_header=1)"
   ]
  },
  {
   "cell_type": "code",
   "execution_count": 21,
   "id": "5e394a9c-470d-4d99-96db-4b500d3c6149",
   "metadata": {},
   "outputs": [
    {
     "data": {
      "text/plain": [
       "array([[25., 76., 99.],\n",
       "       [39., 65., 70.],\n",
       "       [59., 45., 77.],\n",
       "       ...,\n",
       "       [99., 62., 58.],\n",
       "       [70., 71., 91.],\n",
       "       [92., 39., 76.]], shape=(10000, 3))"
      ]
     },
     "execution_count": 21,
     "metadata": {},
     "output_type": "execute_result"
    }
   ],
   "source": [
    "climate_db"
   ]
  },
  {
   "cell_type": "code",
   "execution_count": 22,
   "id": "e4bfd6f6-13ca-4bcb-9e81-d52b45b9d2cf",
   "metadata": {},
   "outputs": [
    {
     "data": {
      "text/plain": [
       "(10000, 3)"
      ]
     },
     "execution_count": 22,
     "metadata": {},
     "output_type": "execute_result"
    }
   ],
   "source": [
    "climate_db.shape"
   ]
  },
  {
   "cell_type": "code",
   "execution_count": 23,
   "id": "98652046-169f-439b-9f1a-097778803955",
   "metadata": {},
   "outputs": [
    {
     "data": {
      "text/plain": [
       "array([0.2, 0.3, 0.5])"
      ]
     },
     "execution_count": 23,
     "metadata": {},
     "output_type": "execute_result"
    }
   ],
   "source": [
    "weight"
   ]
  },
  {
   "cell_type": "code",
   "execution_count": 25,
   "id": "acc80849-fb8e-4aa8-86c6-211ff036d7f6",
   "metadata": {},
   "outputs": [
    {
     "data": {
      "text/plain": [
       "array([0.2, 0.3, 0.5])"
      ]
     },
     "execution_count": 25,
     "metadata": {},
     "output_type": "execute_result"
    }
   ],
   "source": [
    "weight"
   ]
  },
  {
   "cell_type": "code",
   "execution_count": 26,
   "id": "36a2aba5-af90-4176-8ade-9c75e97c16e7",
   "metadata": {},
   "outputs": [
    {
     "data": {
      "text/plain": [
       "array([0.2, 0.3, 0.5])"
      ]
     },
     "execution_count": 26,
     "metadata": {},
     "output_type": "execute_result"
    }
   ],
   "source": [
    "weight"
   ]
  },
  {
   "cell_type": "code",
   "execution_count": 27,
   "id": "ab3a4bc1-2cba-4d4c-854d-41b6f0fb3d32",
   "metadata": {},
   "outputs": [],
   "source": [
    "yields=climate_db @ weight"
   ]
  },
  {
   "cell_type": "code",
   "execution_count": 28,
   "id": "eab300f2-9dbe-465e-a474-e7baaa567d9a",
   "metadata": {},
   "outputs": [
    {
     "data": {
      "text/plain": [
       "array([77.3, 62.3, 63.8, ..., 67.4, 80.8, 68.1], shape=(10000,))"
      ]
     },
     "execution_count": 28,
     "metadata": {},
     "output_type": "execute_result"
    }
   ],
   "source": [
    "yields"
   ]
  },
  {
   "cell_type": "code",
   "execution_count": 31,
   "id": "fdc97840-4cb6-47b5-9900-ef1183bfc9b2",
   "metadata": {},
   "outputs": [],
   "source": [
    "climate_result=np.concatenate((climate_db,yields.reshape(10000,1)),axis=1)"
   ]
  },
  {
   "cell_type": "code",
   "execution_count": 32,
   "id": "468f0329-eed1-47c2-a58c-46cb4556b35d",
   "metadata": {},
   "outputs": [
    {
     "data": {
      "text/plain": [
       "array([[25. , 76. , 99. , 77.3],\n",
       "       [39. , 65. , 70. , 62.3],\n",
       "       [59. , 45. , 77. , 63.8],\n",
       "       ...,\n",
       "       [99. , 62. , 58. , 67.4],\n",
       "       [70. , 71. , 91. , 80.8],\n",
       "       [92. , 39. , 76. , 68.1]], shape=(10000, 4))"
      ]
     },
     "execution_count": 32,
     "metadata": {},
     "output_type": "execute_result"
    }
   ],
   "source": [
    "climate_result"
   ]
  },
  {
   "cell_type": "code",
   "execution_count": 36,
   "id": "872bf098-1867-4be7-a94e-b8ddd6df23b9",
   "metadata": {},
   "outputs": [],
   "source": [
    "np.savetxt('climate_result.text',climate_result,fmt='%.2f',header='temp,rainfall,humidity,yield',comments='')"
   ]
  },
  {
   "cell_type": "code",
   "execution_count": 3,
   "id": "c3ddaa3d-f6b8-4f73-9ba5-c6c73f8f53ed",
   "metadata": {},
   "outputs": [
    {
     "ename": "NameError",
     "evalue": "name 'np' is not defined",
     "output_type": "error",
     "traceback": [
      "\u001b[31m---------------------------------------------------------------------------\u001b[39m",
      "\u001b[31mNameError\u001b[39m                                 Traceback (most recent call last)",
      "\u001b[36mCell\u001b[39m\u001b[36m \u001b[39m\u001b[32mIn[3]\u001b[39m\u001b[32m, line 1\u001b[39m\n\u001b[32m----> \u001b[39m\u001b[32m1\u001b[39m arr1=\u001b[43mnp\u001b[49m.array([[\u001b[32m23\u001b[39m,\u001b[32m45\u001b[39m,\u001b[32m67\u001b[39m],[\u001b[32m34\u001b[39m,\u001b[32m67\u001b[39m,\u001b[32m89\u001b[39m],[\u001b[32m23\u001b[39m,\u001b[32m56\u001b[39m,\u001b[32m43\u001b[39m]]) \n",
      "\u001b[31mNameError\u001b[39m: name 'np' is not defined"
     ]
    }
   ],
   "source": [
    "arr1=np.array([[23,45,67],[34,67,89],[23,56,43]]) "
   ]
  },
  {
   "cell_type": "code",
   "execution_count": 4,
   "id": "35c08e10-26e1-4710-b657-8fc8953b57ee",
   "metadata": {},
   "outputs": [
    {
     "ename": "NameError",
     "evalue": "name 'kento' is not defined",
     "output_type": "error",
     "traceback": [
      "\u001b[31m---------------------------------------------------------------------------\u001b[39m",
      "\u001b[31mNameError\u001b[39m                                 Traceback (most recent call last)",
      "\u001b[36mCell\u001b[39m\u001b[36m \u001b[39m\u001b[32mIn[4]\u001b[39m\u001b[32m, line 1\u001b[39m\n\u001b[32m----> \u001b[39m\u001b[32m1\u001b[39m \u001b[43mkento\u001b[49m\n",
      "\u001b[31mNameError\u001b[39m: name 'kento' is not defined"
     ]
    }
   ],
   "source": [
    "kento"
   ]
  },
  {
   "cell_type": "code",
   "execution_count": 5,
   "id": "4ae68d4f-25ff-414f-a513-c614177dccf8",
   "metadata": {},
   "outputs": [
    {
     "ename": "NameError",
     "evalue": "name 'weight' is not defined",
     "output_type": "error",
     "traceback": [
      "\u001b[31m---------------------------------------------------------------------------\u001b[39m",
      "\u001b[31mNameError\u001b[39m                                 Traceback (most recent call last)",
      "\u001b[36mCell\u001b[39m\u001b[36m \u001b[39m\u001b[32mIn[5]\u001b[39m\u001b[32m, line 1\u001b[39m\n\u001b[32m----> \u001b[39m\u001b[32m1\u001b[39m \u001b[43mweight\u001b[49m\n",
      "\u001b[31mNameError\u001b[39m: name 'weight' is not defined"
     ]
    }
   ],
   "source": [
    "weight"
   ]
  },
  {
   "cell_type": "code",
   "execution_count": null,
   "id": "766e2709-c859-4aa1-a3ed-2a10cfbad16a",
   "metadata": {},
   "outputs": [],
   "source": []
  }
 ],
 "metadata": {
  "kernelspec": {
   "display_name": "Python 3 (ipykernel)",
   "language": "python",
   "name": "python3"
  },
  "language_info": {
   "codemirror_mode": {
    "name": "ipython",
    "version": 3
   },
   "file_extension": ".py",
   "mimetype": "text/x-python",
   "name": "python",
   "nbconvert_exporter": "python",
   "pygments_lexer": "ipython3",
   "version": "3.12.4"
  }
 },
 "nbformat": 4,
 "nbformat_minor": 5
}
